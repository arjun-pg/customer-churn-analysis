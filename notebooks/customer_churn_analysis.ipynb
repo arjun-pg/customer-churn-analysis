# Customer Churn Analysis Project
# Importing Libraries
import pandas as pd
import numpy as np
import seaborn as sns
import matplotlib.pyplot as plt

# Load Dataset
df = pd.read_csv("churn.csv")  # Replace with your CSV path

# Display top 5 rows
df.head()

# Data Info
df.info()

# Checking null values
df.isnull().sum()

# Unique values in columns
df.nunique()

# Convert 'TotalCharges' to numeric
df['TotalCharges'] = pd.to_numeric(df['TotalCharges'], errors='coerce')
df['TotalCharges'].fillna(df['TotalCharges'].median(), inplace=True)

# Remove customerID
df.drop('customerID', axis=1, inplace=True)

# Encode 'Churn'
df['Churn'] = df['Churn'].map({'Yes': 1, 'No': 0})

# Exploratory Data Analysis (EDA)
# Churn countplot
sns.countplot(x='Churn', data=df)
plt.title('Churn Count')
plt.show()

# Gender vs Churn
sns.countplot(x='gender', hue='Churn', data=df)
plt.title('Gender vs Churn')
plt.show()

# Correlation Heatmap
plt.figure(figsize=(12, 8))
sns.heatmap(df.corr(), annot=True, cmap='coolwarm')
plt.title('Correlation Heatmap')
plt.show()

# Splitting Data
from sklearn.model_selection import train_test_split
from sklearn.preprocessing import LabelEncoder

# Encode categorical variables
df_encoded = df.copy()
categorical = df_encoded.select_dtypes(include='object').columns
for col in categorical:
    df_encoded[col] = LabelEncoder().fit_transform(df_encoded[col])

X = df_encoded.drop('Churn', axis=1)
y = df_encoded['Churn']

X_train, X_test, y_train, y_test = train_test_split(X, y, test_size=0.2, random_state=42)

# Model Training
from sklearn.ensemble import RandomForestClassifier
from sklearn.metrics import accuracy_score, confusion_matrix, classification_report

model = RandomForestClassifier(random_state=42)
model.fit(X_train, y_train)

# Prediction and Evaluation
y_pred = model.predict(X_test)

print("Accuracy:", accuracy_score(y_test, y_pred))
print("Confusion Matrix:\n", confusion_matrix(y_test, y_pred))
print("Classification Report:\n", classification_report(y_test, y_pred))
